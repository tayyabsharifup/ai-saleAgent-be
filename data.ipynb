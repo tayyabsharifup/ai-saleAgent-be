{
 "cells": [
  {
   "cell_type": "code",
   "execution_count": 2,
   "id": "d9f9ddb8",
   "metadata": {},
   "outputs": [
    {
     "name": "stdout",
     "output_type": "stream",
     "text": [
      "201\n",
      "{'message': 'Agent created successfully'}\n"
     ]
    }
   ],
   "source": [
    "import requests\n",
    "\n",
    "# Add Agent to the data\n",
    "url = 'http://127.0.1:8000/auth/agent/register/'\n",
    "data = {\n",
    "    'email': 'dawoodsiddique469@gmail.com',\n",
    "    'password': 'dawood123',\n",
    "    'first_name': 'Dawood',\n",
    "    'last_name': 'Siddique',\n",
    "    'phone_number': '+17345085230',\n",
    "    'smtp_email': 'dawoodsiddique469@gmail.com',\n",
    "    'smtp_password': 'ayia gopl ynex mpjo',\n",
    "    }\n",
    "\n",
    "response = requests.post(url, data=data)\n",
    "print(response.status_code)\n",
    "print(response.json())\n",
    "\n"
   ]
  },
  {
   "cell_type": "code",
   "execution_count": null,
   "id": "23f71192",
   "metadata": {},
   "outputs": [
    {
     "name": "stdout",
     "output_type": "stream",
     "text": [
      "201\n",
      "{'message': 'Lead register successfully'}\n"
     ]
    }
   ],
   "source": [
    "url = 'http://127.0.1:8000/auth/lead/register/'\n",
    "data = {\n",
    "    \"name\": \"John Doe\",\n",
    "    \"company\": \"Acme Inc.\",\n",
    "    \"destination\": \"Sales Department\",\n",
    "    \"city\": \"New York\",\n",
    "    \"state\": \"NY\",\n",
    "    \"zip_code\": \"10001\",\n",
    "    \"address\": \"123 Main St\",\n",
    "    \"status\": \"not_initiated\",\n",
    "    \"info\": \"Initial contact, interested in our products.\",\n",
    "    \"assign_to\": \"dawoodsiddique469@gmail.com\",\n",
    "    \"lead_phone\": [\n",
    "        {\n",
    "            \"phone_number\": \"+923037307931\",\n",
    "            \"type\": \"work\"\n",
    "        },\n",
    "    ],\n",
    "    \"lead_email\": [\n",
    "        {\n",
    "            \"email\": \"dawoodsiddique496@gmail.com\",\n",
    "            \"type\": \"work\"\n",
    "        }\n",
    "    ]\n",
    "}\n",
    "\n",
    "response = requests.post(url, data=data)\n",
    "print(response.status_code)\n",
    "print(response.json())"
   ]
  },
  {
   "cell_type": "code",
   "execution_count": 11,
   "id": "1980276c",
   "metadata": {},
   "outputs": [
    {
     "name": "stdout",
     "output_type": "stream",
     "text": [
      "<Response [201]>\n",
      "201\n",
      "{'id': 2, 'message': \"Subject: Re: Inquiry About Purchasing a Forklift\\n\\nHi,\\n\\nThanks for reaching out. Yes, we do have a few forklifts available that might fit your needs. I'd be happy to share the specs, pricing, and availability.\\n\\nLet me know what capacity or features you're looking for, and I'll send over the details.\\n\\nLooking forward to working with you.\\n\\nBest regards,\\nJohn\", 'created_at': '2025-07-28T13:16:14.125312Z', 'messageType': 'email', 'aiType': 'human', 'interestLevel': 'none', 'wroteBy': 'client', 'lead': 1}\n"
     ]
    }
   ],
   "source": [
    "\n",
    "url = 'http://127.0.1:8000/ai/chatHistory/'\n",
    "data = {\n",
    "    'message': \"\"\"\n",
    "Subject: Re: Inquiry About Purchasing a Forklift\n",
    "\n",
    "Hi,\n",
    "\n",
    "Thanks for reaching out. Yes, we do have a few forklifts available that might fit your needs. I'd be happy to share the specs, pricing, and availability.\n",
    "\n",
    "Let me know what capacity or features you're looking for, and I'll send over the details.\n",
    "\n",
    "Looking forward to working with you.\n",
    "\n",
    "Best regards,\n",
    "John\n",
    "\n",
    "\"\"\",\n",
    "    'messageType': 'email',\n",
    "    'aiType': 'human',\n",
    "    'interestLevel': 'none',\n",
    "    'wroteBy': 'client',\n",
    "    'lead': 1,  # Assuming the lead ID is 1\n",
    "\n",
    "}\n",
    "\n",
    "response = requests.post(url, data=data)\n",
    "print(response)\n",
    "print(response.status_code)\n",
    "print(response.json())\n",
    "\n",
    "url = 'http://127.0.1:8000/aiModule/chatHistory/'\n"
   ]
  }
 ],
 "metadata": {
  "kernelspec": {
   "display_name": "ai-sales",
   "language": "python",
   "name": "python3"
  },
  "language_info": {
   "codemirror_mode": {
    "name": "ipython",
    "version": 3
   },
   "file_extension": ".py",
   "mimetype": "text/x-python",
   "name": "python",
   "nbconvert_exporter": "python",
   "pygments_lexer": "ipython3",
   "version": "3.13.3"
  }
 },
 "nbformat": 4,
 "nbformat_minor": 5
}
